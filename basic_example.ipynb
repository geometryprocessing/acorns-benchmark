{
 "cells": [
  {
   "cell_type": "markdown",
   "metadata": {},
   "source": [
    "### Basic example of differentiation with input C function"
   ]
  },
  {
   "cell_type": "code",
   "execution_count": 1,
   "metadata": {},
   "outputs": [],
   "source": [
    "import sys\n",
    "sys.path.append('./tests/python_test_utils')\n",
    "import us_utils"
   ]
  },
  {
   "cell_type": "markdown",
   "metadata": {},
   "source": [
    "#### Input C file with an output variable and multiple input variables"
   ]
  },
  {
   "cell_type": "code",
   "execution_count": 2,
   "metadata": {},
   "outputs": [],
   "source": [
    "c_file = \"int function_0(double a, double p){ \\\n",
    "    double energy = a*a*a*a*p+1/(p*p) - 1/p * p/a; \\\n",
    "    return 0; \\\n",
    "}\""
   ]
  },
  {
   "cell_type": "markdown",
   "metadata": {},
   "source": [
    "#### Writing it to a file"
   ]
  },
  {
   "cell_type": "code",
   "execution_count": 3,
   "metadata": {},
   "outputs": [],
   "source": [
    "f = open(\"examples/basic_example.c\",\"w\")\n",
    "f.write(c_file)\n",
    "f.close()"
   ]
  },
  {
   "cell_type": "markdown",
   "metadata": {},
   "source": [
    "#### Running forward differentiation on the input file"
   ]
  },
  {
   "cell_type": "code",
   "execution_count": 4,
   "metadata": {},
   "outputs": [
    {
     "name": "stdout",
     "output_type": "stream",
     "text": [
      "Differentiation Method: Forward\r\n",
      "Derivative order: First\r\n",
      "Parallel : False\r\n",
      "Splitted : False\r\n",
      "Computing Gradient with Forward Differentiation\r\n",
      "Overwrite previous header files:  examples/output_basic_example\r\n"
     ]
    }
   ],
   "source": [
    "!python3 acorns/forward_diff.py examples/basic_example.c energy --vars a,p --func function_0 --output_filename examples/output_basic_example"
   ]
  },
  {
   "cell_type": "markdown",
   "metadata": {},
   "source": [
    "#### Example of unrolled derivatives"
   ]
  },
  {
   "cell_type": "code",
   "execution_count": 5,
   "metadata": {},
   "outputs": [
    {
     "name": "stdout",
     "output_type": "stream",
     "text": [
      "void compute(double values[], int num_points, double ders[]){\r\n",
      "\r\n",
      "\tfor(int i = 0; i < num_points; ++i)\r\n",
      "\t{\r\n",
      "\t\tdouble a = values[i* 2 + 0 ];\r\n",
      "\t\tdouble p = values[i* 2 + 1 ];\r\n",
      "\t\tders[i*2+0]= (((((p * ((a * ((a * ((a * (1) + a * (1))) + (a * a) * (1))) + ((a * a) * a) * (1))) + (((a * a) * a) * a) * (0))) + (((p * p) * 0 - 1 * (p * (0) + p * (0)))/ ((p * p) * (p * p))))) - ((a * (p * ((p * 0 - 1 * 0)/ (p * p)) + (1 / p) * (0)) - ((1 / p) * p) * 1)/ (a * a))); // df/(a) \r\n",
      "\t\tders[i*2+1]= (((((p * ((a * ((a * ((a * (0) + a * (0))) + (a * a) * (0))) + ((a * a) * a) * (0))) + (((a * a) * a) * a) * (1))) + (((p * p) * 0 - 1 * (p * (1) + p * (1)))/ ((p * p) * (p * p))))) - ((a * (p * ((p * 0 - 1 * 1)/ (p * p)) + (1 / p) * (1)) - ((1 / p) * p) * 0)/ (a * a))); // df/(p) \r\n",
      "\t}\r\n",
      "}\r\n",
      "\r\n"
     ]
    }
   ],
   "source": [
    "!cat examples/output_basic_example.c"
   ]
  },
  {
   "cell_type": "markdown",
   "metadata": {},
   "source": [
    "#### Writing artificial main function with single data point"
   ]
  },
  {
   "cell_type": "code",
   "execution_count": 6,
   "metadata": {},
   "outputs": [],
   "source": [
    "main_func = \"\\n int main(){ \\n\\\n",
    "    int size_ders = 2; \\n\\\n",
    "    double ders[size_ders]; \\n\\\n",
    "    double values[2] = {2.0, 3.0}; \\n\\\n",
    "    int num_points = 1; \\n\\\n",
    "    compute(&values, num_points, &ders); \\n\\\n",
    "    for(int i=0;i<size_ders;i++){ \\n \\\n",
    "     printf(\\\"%lf \\\\n\\\", ders[i]);   \\n \\\n",
    "    } \\n \\\n",
    "}\\n\""
   ]
  },
  {
   "cell_type": "code",
   "execution_count": 7,
   "metadata": {},
   "outputs": [],
   "source": [
    "f = open(\"examples/output_basic_example.c\",\"a\")\n",
    "f.write(main_func)\n",
    "f.close()"
   ]
  },
  {
   "cell_type": "markdown",
   "metadata": {},
   "source": [
    "#### Compiling computation and main function"
   ]
  },
  {
   "cell_type": "code",
   "execution_count": 8,
   "metadata": {},
   "outputs": [],
   "source": [
    "!gcc -O3 -ffast-math -o examples/output_basic_example examples/output_basic_example.c -lm -w"
   ]
  },
  {
   "cell_type": "markdown",
   "metadata": {},
   "source": [
    "#### Running compiled file. Outputs printed below"
   ]
  },
  {
   "cell_type": "code",
   "execution_count": 9,
   "metadata": {},
   "outputs": [
    {
     "name": "stdout",
     "output_type": "stream",
     "text": [
      "96.250000 \r\n",
      "15.925926 \r\n"
     ]
    }
   ],
   "source": [
    "!./examples/output_basic_example"
   ]
  },
  {
   "cell_type": "markdown",
   "metadata": {},
   "source": [
    "#### Hessian example"
   ]
  },
  {
   "cell_type": "code",
   "execution_count": 10,
   "metadata": {},
   "outputs": [
    {
     "name": "stdout",
     "output_type": "stream",
     "text": [
      "Differentiation Method: Forward\r\n",
      "Derivative order: Second\r\n",
      "Parallel : False\r\n",
      "Splitted : False\r\n",
      "Computing Hessian with Forward Differentiation\r\n",
      "Overwrite previous header files:  examples/output_basic_example\r\n"
     ]
    }
   ],
   "source": [
    "!python3 acorns/forward_diff.py examples/basic_example.c energy --second_der --vars a,p --func function_0 --output_filename examples/output_basic_example"
   ]
  },
  {
   "cell_type": "code",
   "execution_count": 11,
   "metadata": {},
   "outputs": [
    {
     "name": "stdout",
     "output_type": "stream",
     "text": [
      "void compute(double values[], int num_points, double ders[]){\r\n",
      "\r\n",
      "\tfor(int i = 0; i < num_points; ++i)\r\n",
      "\t{\r\n",
      "\t\tdouble a = values[i* 2 + 0 ];\r\n",
      "\t\tdouble p = values[i* 2 + 1 ];\r\n",
      "\t\tders[i*4+0]= (((((((((a * ((a * ((a * 1) + (a * 1))) + ((a * a) * 1))) + (((a * a) * a) * 1)) * (0) + p * ((((((a * ((a * 1) + (a * 1))) + ((a * a) * 1)) * (1) + a * ((((((a * 1) + (a * 1)) * (1) + a * ((((1 * (1) + a * (0))) + ((1 * (1) + a * (0))))))) + ((1 * ((a * (1) + a * (1))) + (a * a) * (0))))))) + ((1 * ((a * ((a * (1) + a * (1))) + (a * a) * (1))) + ((a * a) * a) * (0))))))) + ((0 * ((a * ((a * ((a * (1) + a * (1))) + (a * a) * (1))) + ((a * a) * a) * (1))) + (((a * a) * a) * a) * (0))))) + ((((p * p) * (p * p)) * (((0 * ((p * (0) + p * (0))) + (p * p) * (0))) - ((((p * 0) + (p * 0)) * (0) + 1 * ((((0 * (0) + p * (0))) + ((0 * (0) + p * (0)))))))) - (((p * p) * 0) - (1 * ((p * 0) + (p * 0)))) * ((p * p) * ((p * (0) + p * (0))) + (p * p) * ((p * (0) + p * (0)))))/ (((p * p) * (p * p)) * ((p * p) * (p * p)))))) - (((a * a) * (((((p * (((p * 0) - (1 * 0)) / (p * p))) + ((1 / p) * 0)) * (1) + a * (((((((p * 0) - (1 * 0)) / (p * p)) * (0) + p * (((p * p) * (((0 * (0) + p * (0))) - ((0 * (0) + 1 * (0)))) - ((p * 0) - (1 * 0)) * (p * (0) + p * (0)))/ ((p * p) * (p * p))))) + ((0 * ((p * 0 - 1 * 0)/ (p * p)) + (1 / p) * (0))))))) - ((1 * ((p * ((p * 0 - 1 * 0)/ (p * p)) + (1 / p) * (0))) + ((1 / p) * p) * (0)))) - ((a * ((p * (((p * 0) - (1 * 0)) / (p * p))) + ((1 / p) * 0))) - (((1 / p) * p) * 1)) * (a * (1) + a * (1)))/ ((a * a) * (a * a)))); // df/(dada) \r\n",
      "\t\tders[i*4+1]= (((((((((a * ((a * ((a * 1) + (a * 1))) + ((a * a) * 1))) + (((a * a) * a) * 1)) * (1) + p * ((((((a * ((a * 1) + (a * 1))) + ((a * a) * 1)) * (0) + a * ((((((a * 1) + (a * 1)) * (0) + a * ((((1 * (0) + a * (0))) + ((1 * (0) + a * (0))))))) + ((1 * ((a * (0) + a * (0))) + (a * a) * (0))))))) + ((1 * ((a * ((a * (0) + a * (0))) + (a * a) * (0))) + ((a * a) * a) * (0))))))) + ((0 * ((a * ((a * ((a * (0) + a * (0))) + (a * a) * (0))) + ((a * a) * a) * (0))) + (((a * a) * a) * a) * (0))))) + ((((p * p) * (p * p)) * (((0 * ((p * (1) + p * (1))) + (p * p) * (0))) - ((((p * 0) + (p * 0)) * (0) + 1 * ((((0 * (1) + p * (0))) + ((0 * (1) + p * (0)))))))) - (((p * p) * 0) - (1 * ((p * 0) + (p * 0)))) * ((p * p) * ((p * (1) + p * (1))) + (p * p) * ((p * (1) + p * (1)))))/ (((p * p) * (p * p)) * ((p * p) * (p * p)))))) - (((a * a) * (((((p * (((p * 0) - (1 * 0)) / (p * p))) + ((1 / p) * 0)) * (0) + a * (((((((p * 0) - (1 * 0)) / (p * p)) * (1) + p * (((p * p) * (((0 * (1) + p * (0))) - ((0 * (0) + 1 * (0)))) - ((p * 0) - (1 * 0)) * (p * (1) + p * (1)))/ ((p * p) * (p * p))))) + ((0 * ((p * 0 - 1 * 1)/ (p * p)) + (1 / p) * (0))))))) - ((1 * ((p * ((p * 0 - 1 * 1)/ (p * p)) + (1 / p) * (1))) + ((1 / p) * p) * (0)))) - ((a * ((p * (((p * 0) - (1 * 0)) / (p * p))) + ((1 / p) * 0))) - (((1 / p) * p) * 1)) * (a * (0) + a * (0)))/ ((a * a) * (a * a)))); // df/(dadp) \r\n",
      "\t\tders[i*4+2]= (((((((((a * ((a * ((a * 0) + (a * 0))) + ((a * a) * 0))) + (((a * a) * a) * 0)) * (1) + p * ((((((a * ((a * 0) + (a * 0))) + ((a * a) * 0)) * (0) + a * ((((((a * 0) + (a * 0)) * (0) + a * ((((0 * (0) + a * (0))) + ((0 * (0) + a * (0))))))) + ((0 * ((a * (0) + a * (0))) + (a * a) * (0))))))) + ((0 * ((a * ((a * (0) + a * (0))) + (a * a) * (0))) + ((a * a) * a) * (0))))))) + ((1 * ((a * ((a * ((a * (0) + a * (0))) + (a * a) * (0))) + ((a * a) * a) * (0))) + (((a * a) * a) * a) * (0))))) + ((((p * p) * (p * p)) * (((0 * ((p * (1) + p * (1))) + (p * p) * (0))) - ((((p * 1) + (p * 1)) * (0) + 1 * ((((1 * (1) + p * (0))) + ((1 * (1) + p * (0)))))))) - (((p * p) * 0) - (1 * ((p * 1) + (p * 1)))) * ((p * p) * ((p * (1) + p * (1))) + (p * p) * ((p * (1) + p * (1)))))/ (((p * p) * (p * p)) * ((p * p) * (p * p)))))) - (((a * a) * (((((p * (((p * 0) - (1 * 1)) / (p * p))) + ((1 / p) * 1)) * (0) + a * (((((((p * 0) - (1 * 1)) / (p * p)) * (1) + p * (((p * p) * (((0 * (1) + p * (0))) - ((1 * (0) + 1 * (0)))) - ((p * 0) - (1 * 1)) * (p * (1) + p * (1)))/ ((p * p) * (p * p))))) + ((1 * ((p * 0 - 1 * 1)/ (p * p)) + (1 / p) * (0))))))) - ((0 * ((p * ((p * 0 - 1 * 1)/ (p * p)) + (1 / p) * (1))) + ((1 / p) * p) * (0)))) - ((a * ((p * (((p * 0) - (1 * 1)) / (p * p))) + ((1 / p) * 1))) - (((1 / p) * p) * 0)) * (a * (0) + a * (0)))/ ((a * a) * (a * a)))); // df/(dpdp) \r\n",
      "\t\tders[i*4+3]= ders[i*4+1]; // df/(dpda) \r\n",
      "\t}\r\n",
      "}\r\n",
      "\r\n"
     ]
    }
   ],
   "source": [
    "!cat examples/output_basic_example.c"
   ]
  },
  {
   "cell_type": "code",
   "execution_count": null,
   "metadata": {},
   "outputs": [],
   "source": []
  }
 ],
 "metadata": {
  "kernelspec": {
   "display_name": "Python 3",
   "language": "python",
   "name": "python3"
  },
  "language_info": {
   "codemirror_mode": {
    "name": "ipython",
    "version": 3
   },
   "file_extension": ".py",
   "mimetype": "text/x-python",
   "name": "python",
   "nbconvert_exporter": "python",
   "pygments_lexer": "ipython3",
   "version": "3.7.5"
  }
 },
 "nbformat": 4,
 "nbformat_minor": 2
}
